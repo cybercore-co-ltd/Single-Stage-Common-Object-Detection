{
 "cells": [
  {
   "cell_type": "code",
   "execution_count": null,
   "metadata": {},
   "outputs": [],
   "source": [
    "import os\n",
    "import cvut\n",
    "import mmcv\n",
    "import torch\n",
    "import numpy as np\n",
    "from glob import glob\n",
    "from tqdm import tqdm\n",
    "from matplotlib import pyplot as plt\n",
    "from mmcv.runner import load_checkpoint\n",
    "from sklearn.metrics import plot_confusion_matrix\n",
    "\n",
    "from mmdet.models import build_detector\n",
    "from mmdet.datasets import build_dataset"
   ]
  },
  {
   "cell_type": "code",
   "execution_count": null,
   "metadata": {},
   "outputs": [],
   "source": [
    "CFG = \"../configs/sscod/voc/exp2_arccon.py\"\n",
    "CKPT = \"/checkpoints/sscod/voc/exp2_arccon/c8d80951a6df089d_e_12.pth\"\n",
    "\n",
    "cfg = mmcv.Config.fromfile(CFG)\n",
    "dataset = build_dataset(cfg.data.test)\n",
    "model = build_detector(cfg.model, train_cfg=None, test_cfg=cfg.test_cfg)\n",
    "load_checkpoint(model, CKPT, map_location='cpu');\n",
    "\n",
    "MEAN = np.array(cfg.img_norm_cfg['mean'])\n",
    "STD = np.array(cfg.img_norm_cfg['std'])"
   ]
  },
  {
   "cell_type": "code",
   "execution_count": null,
   "metadata": {},
   "outputs": [],
   "source": [
    "# Visualize data\n",
    "\n",
    "idx = 4\n",
    "sample = dataset[idx]\n",
    "img = sample['img'][0]\n",
    "\n",
    "image = cvut.impt2np(img.unsqueeze(0))\n",
    "image = cvut.imdenormalize(image, MEAN, STD, scale_255=False)\n",
    "\n",
    "plt.figure(figsize=(10,10))\n",
    "plt.imshow(image)\n",
    "plt.show()"
   ]
  },
  {
   "cell_type": "code",
   "execution_count": null,
   "metadata": {},
   "outputs": [],
   "source": [
    "# Inference\n",
    "\n",
    "data = dict(\n",
    "    img=[sample['img'][0].unsqueeze(0)],\n",
    "    img_meta=[[sample['img_meta'][0].data]],\n",
    ")\n",
    "outputs = model(return_loss=False, rescale=False, **data)\n",
    "bboxes, labels, embeddings = outputs['boxes'], outputs['classes'], outputs['embed']\n",
    "\n",
    "# Threshold\n",
    "det_thr = 0.3\n",
    "print(\"Number of bboxes before thresholding:\", len(bboxes))\n",
    "keep_indicators = bboxes[:,-1] > det_thr\n",
    "bboxes = bboxes[keep_indicators]\n",
    "labels = labels[keep_indicators]\n",
    "embeddings = embeddings[keep_indicators]\n",
    "print(\"Number of bboxes after thresholding:\", len(bboxes))\n",
    "\n",
    "# Visualize\n",
    "labels = np.arange(len(bboxes))\n",
    "classnames = [\"cls\"+str(label) for label in labels]\n",
    "drawn_image = cvut.draw_bboxes(image, bboxes[:,:-1], labels=labels, classnames=classnames, color=None)\n",
    "plt.figure(figsize=(20,20))\n",
    "plt.imshow(drawn_image)\n",
    "plt.show()"
   ]
  },
  {
   "cell_type": "code",
   "execution_count": null,
   "metadata": {},
   "outputs": [],
   "source": [
    "# Embed\n",
    "\n",
    "def compute_similarity(embeddings1, embeddings2):\n",
    "    scores = np.matmul(embeddings1, embeddings2.T)\n",
    "    return scores\n",
    "\n",
    "def compute_self_similarity(embeddings):\n",
    "    return compute_similarity(embeddings, embeddings)\n",
    "\n",
    "scores = compute_self_similarity(embeddings)\n",
    "plt.figure(figsize=(20,20))\n",
    "res = plt.imshow(scores, cmap=plt.cm.jet)\n",
    "plt.colorbar()\n",
    "plt.xticks(range(len(bboxes)))\n",
    "plt.yticks(range(len(bboxes)))\n",
    "plt.show()"
   ]
  },
  {
   "cell_type": "code",
   "execution_count": null,
   "metadata": {},
   "outputs": [],
   "source": [
    "# Draw only serveral objects\n",
    "\n",
    "objects = np.array([0, 1, 3, 4, 5, 7, 9, 10, 11])\n",
    "\n",
    "drawn_image = cvut.draw_bboxes(image, bboxes[:,:-1][objects], labels=labels[objects], classnames=classnames, color=None)\n",
    "plt.figure(figsize=(20,20))\n",
    "plt.imshow(drawn_image)\n",
    "plt.show()"
   ]
  },
  {
   "cell_type": "code",
   "execution_count": null,
   "metadata": {},
   "outputs": [],
   "source": []
  }
 ],
 "metadata": {
  "kernelspec": {
   "display_name": "Python 3",
   "language": "python",
   "name": "python3"
  },
  "language_info": {
   "codemirror_mode": {
    "name": "ipython",
    "version": 3
   },
   "file_extension": ".py",
   "mimetype": "text/x-python",
   "name": "python",
   "nbconvert_exporter": "python",
   "pygments_lexer": "ipython3",
   "version": "3.7.7"
  }
 },
 "nbformat": 4,
 "nbformat_minor": 4
}
